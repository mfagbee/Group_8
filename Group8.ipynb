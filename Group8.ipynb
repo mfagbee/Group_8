{
  "nbformat": 4,
  "nbformat_minor": 0,
  "metadata": {
    "colab": {
      "provenance": []
    },
    "kernelspec": {
      "name": "python3",
      "display_name": "Python 3"
    },
    "language_info": {
      "name": "python"
    }
  },
  "cells": [
    {
      "cell_type": "code",
      "execution_count": 38,
      "metadata": {
        "id": "rGR6LDJFhKSp"
      },
      "outputs": [],
      "source": [
        "from urllib import request   #Importing Request Library\n",
        "#Connecting to Equatorial SOI data using request\n",
        "webUrl = request.urlopen(\"https://www.cpc.ncep.noaa.gov/data/indices/reqsoi.for\")\n",
        "\n",
        "#print (\"result code: \" + str(webUrl.getcode()))\n",
        "data = webUrl.read()\n",
        "#print(data)\n",
        "#type(data)   #Check the data type in our the Dataset is binary Data\n",
        "ISO_data = open(\"SOIData.txt\", \"wb\")\n",
        "n= ISO_data.write(data)\n",
        "ISO_data.close()\n",
        "\n"
      ]
    },
    {
      "cell_type": "code",
      "source": [
        "!wget -q \"https://psl.noaa.gov/data/climateindices/list/\" -O \"SOI_datasets.html\" #Accessing the Website\n",
        "\n",
        "print(datasets)\n",
        "!wget -q \"https://www.cpc.ncep.noaa.gov/data/indices/\" -O \"SOI_data.html\"  # Accessing the Southern Oscillation Index Data\n",
        "!wget -q \"https://www.cpc.ncep.noaa.gov/data/indices/repac_slpa.for\"  #Equitorial Eastern Pacific Data\n",
        "!wget -q \"https://www.cpc.ncep.noaa.gov/data/indices/soi\" #Stand Tahiti -Stand Darwin\n",
        "!wget -q \"https://www.cpc.ncep.noaa.gov/data/indices/rindo_slpa.for\" #Indonesia SLP (Standardized Anomalies)\n",
        "!wget -q \"https://www.cpc.ncep.noaa.gov/data/indices/reqsoi.for\" #Equatorial SOI: Data\n",
        "!wget -q \"cpc.ncep.noaa.gov/data/indices/reqsoi.3m.for\"  #Equatorial SOI: Three-Month Running Mean\n"
      ],
      "metadata": {
        "id": "rmrhjQZUrtW5"
      },
      "execution_count": 37,
      "outputs": []
    },
    {
      "cell_type": "code",
      "source": [
        "!git clone -l -s https://github.com/mfagbee/Group_8.git"
      ],
      "metadata": {
        "colab": {
          "base_uri": "https://localhost:8080/"
        },
        "id": "wdoFkuAKBzBF",
        "outputId": "98d2e75d-7096-4fbd-cba5-36a484f7fd43"
      },
      "execution_count": 41,
      "outputs": [
        {
          "output_type": "stream",
          "name": "stdout",
          "text": [
            "Cloning into 'Group_8'...\n",
            "warning: --local is ignored\n",
            "fatal: could not read Username for 'https://github.com': No such device or address\n"
          ]
        }
      ]
    }
  ]
}